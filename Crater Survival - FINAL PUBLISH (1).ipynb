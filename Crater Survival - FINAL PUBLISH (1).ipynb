{
 "cells": [
  {
   "cell_type": "markdown",
   "id": "997b7d6f",
   "metadata": {},
   "source": [
    "This code first reads in a CSV file that is produced from the notebook \"Simulation CSV\". \n",
    "The objects is to analyze which craters are detroyed due to being covered by another crater, and produce a CSV file of just the surviving craters. \n",
    "\n",
    "For each crater j, the program calculates the rim loss due to all of the other craters.\n",
    "It does this by:\n",
    "First, filtering the craters formed after crater j, bcause only craters formed after can destroy a crater.\n",
    "Then for each of those craters, it filters craters that overlap with j, because only craters that overlap with j will contribute towards erasure.\n",
    "Next, it takes the filtered craters, and calculates the rim loss on crater j due to each crater.\n",
    "Then it adds up the rim loss due to each crater.\n",
    "If this is greater than 75% of the rim, the crater is cosndiered destroyed, and removed from the CSV list."
   ]
  },
  {
   "cell_type": "code",
   "execution_count": 1,
   "id": "fb5c6b66",
   "metadata": {},
   "outputs": [],
   "source": [
    "# Imports\n",
    "import numpy as np\n",
    "import math\n",
    "import os\n",
    "import random\n",
    "import numpy as np\n",
    "import pandas as pd\n",
    "import cartopy.crs as ccrs\n",
    "import matplotlib.pyplot as plt\n",
    "import matplotlib.cm as cm\n",
    "from scipy.optimize import minimize\n",
    "from tqdm import tqdm\n",
    "from cartopy.mpl.gridliner import LONGITUDE_FORMATTER, LATITUDE_FORMATTER\n",
    "import matplotlib.ticker as mticker\n",
    "from cartopy.mpl.gridliner import LONGITUDE_FORMATTER\n",
    "from matplotlib.patches import Circle\n",
    "from datetime import datetime\n",
    "from concurrent.futures import ProcessPoolExecutor, as_completed"
   ]
  },
  {
   "cell_type": "code",
   "execution_count": 3,
   "id": "4b8e8956",
   "metadata": {},
   "outputs": [],
   "source": [
    "MOON_RADIUS = 1737.1\n",
    "#MOON_CIRCUMFERENCE = 10_917"
   ]
  },
  {
   "cell_type": "code",
   "execution_count": 2,
   "id": "3fb53635",
   "metadata": {},
   "outputs": [],
   "source": [
    "# Functions \n",
    "\"\"\"\n",
    "Original Functions: Angular Seperation, Check overlap, and Calculate Rim Loss\n",
    "\"\"\"\n",
    "\n",
    "# Angular separation using Vincenty formula\n",
    "\"\"\"\n",
    "Calculates the angular seperation between two craters, using the vincenty formula\n",
    "Args:\n",
    "    lon1: Longitude of crater 1\n",
    "    lat1: Latitude of crater 1\n",
    "    lon2: Longitude of crater 2\n",
    "    lat2: Latitude of crater 2  \n",
    "Returns: Angular seperation between two craters\n",
    "\"\"\"\n",
    "def angular_sep(lon1, lat1, lon2, lat2):\n",
    "    # Convert degrees to radians\n",
    "    lon1, lat1, lon2, lat2 = np.radians([lon1, lat1, lon2, lat2])\n",
    "    delta_lon = lon2 - lon1\n",
    "    numerator = np.sqrt((np.cos(lat2) * np.sin(delta_lon))**2 + (np.cos(lat1) * np.sin(lat2) - np.sin(lat1) * np.cos(lat2) * np.cos(delta_lon))**2)\n",
    "    denominator = np.sin(lat1) * np.sin(lat2) + np.cos(lat1) * np.cos(lat2) * np.cos(delta_lon)\n",
    "    return np.arctan2(numerator, denominator)\n",
    "\n",
    "# Check overlap between crater 1 and 2\n",
    "\"\"\"\n",
    "Checks if crater 1 and crater 2 overlap with each other\n",
    "Args:\n",
    "     crater 1: first crater in comparison\n",
    "     crater 2: second crater in comparison\n",
    "Returns: Boolean value: True if craters overlap, false if craters do not overlap\n",
    "\"\"\"\n",
    "def check_overlap(crater1, crater2):\n",
    "    lon1, lat1, size1 = crater1[0], crater1[1], crater1[2]\n",
    "    lon2, lat2, size2 = crater2[0], crater2[1], crater2[2]\n",
    "    separation = angular_sep(lon1, lat1, lon2, lat2)\n",
    "    size1_rad = size1 / MOON_RADIUS\n",
    "    size2_rad = size2 / MOON_RADIUS\n",
    "    return separation < (size1_rad + size2_rad) / 2\n",
    "\n",
    "# Calculate rim loss on crater 1 due to crater 2\n",
    "\"\"\"\n",
    "Calculates the rim loss on crater 1 due to crater 2, as an estimate of the % of area lost of crater 1, in order to determine if it is erased.\n",
    "Args:\n",
    "     crater 1: first crater in comparison\n",
    "     crater 2: second crater in comparison\n",
    "Returns: Rim loss on crater 1 due to crater 2\n",
    "\"\"\"\n",
    "def calculate_rim_loss_on_crater1(crater1, crater2):\n",
    "    lon1, lat1, diam1 = crater1\n",
    "    lon2, lat2, diam2 = crater2\n",
    "    # Convert diameters to radii\n",
    "    r1 = diam1 / 2\n",
    "    r2 = diam2 / 2\n",
    "    # Convert degrees to radians\n",
    "    lon1, lat1, lon2, lat2 = map(np.radians, [lon1, lat1, lon2, lat2])\n",
    "    # Calculate the central angle between the crater centers using spherical law of cosines\n",
    "    delta_sigma = np.arccos(np.sin(lat1) * np.sin(lat2) + np.cos(lat1) * np.cos(lat2) * np.cos(lon2 - lon1))\n",
    "    d = MOON_RADIUS * delta_sigma  # Distance between crater centers\n",
    "    \"\"\"\n",
    "    x is the distance from the center of crater 1 to the nearest point of intersection along the line connecting \n",
    "    crater 1 and 2.\n",
    "    z is the cosine of the angle that we want to find.\n",
    "    \"\"\"\n",
    "    # Check for overlap\n",
    "    if d < r1 + r2:\n",
    "        # Calculate the angle subtended by the arc of Crater 1's rim that is intercepted\n",
    "        # Using the formula for intersecting circles on a sphere\n",
    "        x = (d**2 + r1**2 - r2**2) / (2 * d)\n",
    "        z = x / r1\n",
    "        z = np.clip(z, -1.0, 1.0)  # Ensuring the value is within the domain of arccos\n",
    "        a1 = np.arccos(z) * 2\n",
    "        # Calculate rim loss for Crater 1 as a percentage of its total circumference\n",
    "        rim_loss = (a1 / (2 * np.pi)) * 100\n",
    "\n",
    "        return rim_loss\n",
    "    else:\n",
    "        return 0"
   ]
  },
  {
   "cell_type": "code",
   "execution_count": 5,
   "id": "5d7372ca",
   "metadata": {},
   "outputs": [],
   "source": [
    "# Surviving craters function \n",
    "\"\"\"\n",
    "Define the csv path used for crater data before erasure. \n",
    "Calculates the craters that survive erasure\n",
    "Args:\n",
    "     csv path: Define the path used to feed in simulation data in order to calculate erasure\n",
    "     threshold loss: % of rim loss required to be considered erased, and removed from CSV \n",
    "Returns: CSV file downloaded to computer of craters that survive erasure\n",
    "\"\"\"\n",
    "\n",
    "def get_surviving_craters(csv_path, threshold_loss=0.75):\n",
    "    # Read CSV file into DataFrame\n",
    "    craters_df = pd.read_csv(csv_path)\n",
    "    # Convert radians to degrees\n",
    "    craters_df['Longitude'] = np.degrees(craters_df['Longitude']) % 360\n",
    "    craters_df['Latitude'] = np.degrees(craters_df['Latitude'])\n",
    "    # Convert dataframe to tuples for faster processing\n",
    "    craters_list = craters_df.to_records(index=False).tolist()\n",
    "    surviving_craters = []\n",
    "\n",
    "    for j in tqdm(range(len(craters_list)), desc=\"Processing Craters\"):\n",
    "        crater_j = craters_list[j]\n",
    "        total_rim_loss = 0\n",
    "        # Filter for craters that overlap with crater j and formed after crater j + checks\n",
    "        S_all_after = [crater_i for crater_i in craters_list \n",
    "                       if crater_i[3] > crater_j[3]  # Check formation time\n",
    "                       # Check that seperation in Lon and Lat is greater than radii combined\n",
    "                       #and np.radians(min(abs(crater_i[0] - crater_j[0]), abs(crater_i[0] - crater_j[0] - 360), (360 - abs(crater_i[0] - crater_j[0])))) <= (crater_j[2] / MOON_RADIUS + crater_i[2] / MOON_RADIUS)\n",
    "                       and np.radians(abs(crater_i[1] - crater_j[1])) <= (crater_j[2] / MOON_RADIUS + crater_i[2] / MOON_RADIUS) \n",
    "                       and check_overlap(crater_j[:3], crater_i[:3])]\n",
    "\n",
    "        for crater_i in S_all_after:\n",
    "            rim_loss = calculate_rim_loss_on_crater1(crater_j[:3], crater_i[:3])\n",
    "            total_rim_loss += rim_loss\n",
    "\n",
    "        # Check if crater survives\n",
    "        if total_rim_loss <= threshold_loss:\n",
    "            surviving_craters.append(crater_j)\n",
    "\n",
    "    # Convert surviving craters back to DataFrame\n",
    "    surviving_craters_df = pd.DataFrame(surviving_craters, columns=craters_df.columns)\n",
    "\n",
    "    # Define the output directory and file name (timestamped)\n",
    "    output_dir = \"C:\\\\Users\\\\julia\\\\OneDrive\\\\Documents\\\\Lunar Cratering project David Kipping\\\\Surviving craters CSV files\"\n",
    "    timestamp = datetime.now().strftime(\"%Y%m%d_%H%M%S\")\n",
    "    output_filename = f'surviving_craters_{timestamp}.csv'\n",
    "    output_path = os.path.join(output_dir, output_filename)\n",
    "\n",
    "    # Save surviving craters to a CSV file\n",
    "    surviving_craters_df.to_csv(output_path, index=False)\n",
    "\n",
    "    return surviving_craters_df"
   ]
  },
  {
   "cell_type": "code",
   "execution_count": 6,
   "id": "f8a5ca8c",
   "metadata": {},
   "outputs": [
    {
     "name": "stderr",
     "output_type": "stream",
     "text": [
      "Processing Craters: 100%|███████████████████████████████████████████████████████████████████████████████████████████████| 981/981 [00:03<00:00, 326.94it/s]\n"
     ]
    }
   ],
   "source": [
    "# Calculate surviving craters for dataset with 1000 craters\n",
    "csv_path = \"C:\\\\Users\\\\julia\\\\OneDrive\\\\Documents\\\\Lunar Cratering project David Kipping\\\\Simulation CSV files\\\\crater_1000.csv\"\n",
    "surviving_craters_df = get_surviving_craters(csv_path)"
   ]
  },
  {
   "cell_type": "code",
   "execution_count": null,
   "id": "a1fed8ba",
   "metadata": {},
   "outputs": [
    {
     "name": "stderr",
     "output_type": "stream",
     "text": [
      "Processing Craters:  26%|█████████████▍                                     | 26563/100598 [1:25:13<2:35:17,  7.95it/s]"
     ]
    }
   ],
   "source": [
    "# Track speed for 100,000 craters\n",
    "csv_path2 = \"C:\\\\Users\\\\julia\\\\OneDrive\\\\Documents\\\\Lunar Cratering project David Kipping\\\\Simulation CSV files\\\\crater_100k.csv\"\n",
    "surviving_craters_df = get_surviving_craters(csv_path2)"
   ]
  },
  {
   "cell_type": "code",
   "execution_count": 7,
   "id": "b7185955",
   "metadata": {},
   "outputs": [
    {
     "name": "stderr",
     "output_type": "stream",
     "text": [
      "Processing Craters: 100%|████████████████████████████████████████████████████████| 20372/20372 [07:11<00:00, 47.27it/s]\n"
     ]
    }
   ],
   "source": [
    "# Track speed for 20,000 craters\n",
    "csv_path3 = \"C:\\\\Users\\\\julia\\\\OneDrive\\\\Documents\\\\Lunar Cratering project David Kipping\\\\Simulation CSV files\\\\crater_20k.csv\"\n",
    "surviving_craters_df = get_surviving_craters(csv_path3)"
   ]
  },
  {
   "cell_type": "code",
   "execution_count": 30,
   "id": "891c0b02",
   "metadata": {},
   "outputs": [
    {
     "name": "stderr",
     "output_type": "stream",
     "text": [
      "Processing Craters: 100%|████████████████████████████████████████████████████████| 50534/50534 [50:29<00:00, 16.68it/s]\n"
     ]
    }
   ],
   "source": [
    "# Track speed for 50,000 craters\n",
    "csv_path20 = \"C:\\\\Users\\\\julia\\\\OneDrive\\\\Documents\\\\Lunar Cratering project David Kipping\\\\Simulation CSV files\\\\crater_50k.csv\"\n",
    "surviving_craters_df = get_surviving_craters(csv_path20)"
   ]
  },
  {
   "cell_type": "code",
   "execution_count": 31,
   "id": "f2861cb4",
   "metadata": {},
   "outputs": [
    {
     "name": "stderr",
     "output_type": "stream",
     "text": [
      "Processing Craters: 100%|██████████████████████████████████████████████████████| 70800/70800 [1:41:24<00:00, 11.64it/s]\n"
     ]
    }
   ],
   "source": [
    "# Track speed for 70,000 craters\n",
    "csv_path20 = \"C:\\\\Users\\\\julia\\\\OneDrive\\\\Documents\\\\Lunar Cratering project David Kipping\\\\Simulation CSV files\\\\crater_70k.csv\"\n",
    "surviving_craters_df = get_surviving_craters(csv_path20)\n",
    "\n",
    "# 50% 1 hour 20 mins\n",
    "# 66% 1 hour 31 min \n",
    "# 88% 1 hour 40 mins\n",
    "# 100% 1 hour 41 mins\n",
    "\n",
    "# Final 50% takes about 1/4 of the time it takes to get to 1/2"
   ]
  },
  {
   "cell_type": "code",
   "execution_count": 32,
   "id": "e7f63968",
   "metadata": {},
   "outputs": [
    {
     "name": "stderr",
     "output_type": "stream",
     "text": [
      "Processing Craters: 100%|████████████████████████████████████████████████████████| 30336/30336 [15:38<00:00, 32.33it/s]\n"
     ]
    }
   ],
   "source": [
    "# Track speed for 30,000 craters\n",
    "csv_path20 = \"C:\\\\Users\\\\julia\\\\OneDrive\\\\Documents\\\\Lunar Cratering project David Kipping\\\\Simulation CSV files\\\\crater_30k.csv\"\n",
    "surviving_craters_df = get_surviving_craters(csv_path20)"
   ]
  },
  {
   "cell_type": "code",
   "execution_count": 36,
   "id": "24f771e7",
   "metadata": {},
   "outputs": [
    {
     "name": "stderr",
     "output_type": "stream",
     "text": [
      "Processing Craters: 100%|████████████████████████████████████████████████████████| 40668/40668 [29:57<00:00, 22.63it/s]\n"
     ]
    }
   ],
   "source": [
    "# Track speed for 40,000 craters\n",
    "csv_path21 = \"C:\\\\Users\\\\julia\\\\OneDrive\\\\Documents\\\\Lunar Cratering project David Kipping\\\\Simulation CSV files\\\\crater_40kk.csv\"\n",
    "surviving_craters_df = get_surviving_craters(csv_path21)"
   ]
  },
  {
   "cell_type": "markdown",
   "id": "886fd629",
   "metadata": {},
   "source": [
    "Changing the number of steps: 1, 3, 10, 30, 100\n",
    "Holding constant # of craters: 20,000\n",
    "                      dmin   : 0.27"
   ]
  },
  {
   "cell_type": "code",
   "execution_count": 15,
   "id": "4bbee913",
   "metadata": {},
   "outputs": [
    {
     "name": "stderr",
     "output_type": "stream",
     "text": [
      "Processing Craters: 100%|███████████████████████████████████████████████████████| 10069/10069 [00:18<00:00, 532.52it/s]\n"
     ]
    }
   ],
   "source": [
    "# Track speed for 1 time step\n",
    "csv_path4 = \"C:\\\\Users\\\\julia\\\\OneDrive\\\\Documents\\\\Lunar Cratering project David Kipping\\\\Simulation CSV files\\\\crater_1step_10k.csv\"\n",
    "surviving_craters_df = get_surviving_craters(csv_path4)"
   ]
  },
  {
   "cell_type": "code",
   "execution_count": 17,
   "id": "a7b8c47a",
   "metadata": {},
   "outputs": [
    {
     "name": "stderr",
     "output_type": "stream",
     "text": [
      "Processing Craters: 100%|████████████████████████████████████████████████████████| 10154/10154 [03:32<00:00, 47.82it/s]\n"
     ]
    }
   ],
   "source": [
    "# Track speed for 3 time step\n",
    "csv_path5 = \"C:\\\\Users\\\\julia\\\\OneDrive\\\\Documents\\\\Lunar Cratering project David Kipping\\\\Simulation CSV files\\\\crater_3step_10k.csv\"\n",
    "surviving_craters_df = get_surviving_craters(csv_path5)"
   ]
  },
  {
   "cell_type": "code",
   "execution_count": 18,
   "id": "514b18ee",
   "metadata": {},
   "outputs": [
    {
     "name": "stderr",
     "output_type": "stream",
     "text": [
      "Processing Craters: 100%|████████████████████████████████████████████████████████| 10187/10187 [04:55<00:00, 34.47it/s]\n"
     ]
    }
   ],
   "source": [
    "# Track speed for 10 time step\n",
    "csv_path6 = \"C:\\\\Users\\\\julia\\\\OneDrive\\\\Documents\\\\Lunar Cratering project David Kipping\\\\Simulation CSV files\\\\crater_10step_10k.csv\"\n",
    "surviving_craters_df = get_surviving_craters(csv_path6)"
   ]
  },
  {
   "cell_type": "code",
   "execution_count": 20,
   "id": "6d7a59e0",
   "metadata": {},
   "outputs": [
    {
     "name": "stderr",
     "output_type": "stream",
     "text": [
      "Processing Craters: 100%|████████████████████████████████████████████████████████| 10033/10033 [04:53<00:00, 34.15it/s]\n"
     ]
    }
   ],
   "source": [
    "# Track speed for 30 time step\n",
    "csv_path7 = \"C:\\\\Users\\\\julia\\\\OneDrive\\\\Documents\\\\Lunar Cratering project David Kipping\\\\Simulation CSV files\\\\crater_30step_10k.csv\"\n",
    "surviving_craters_df = get_surviving_craters(csv_path7)"
   ]
  },
  {
   "cell_type": "code",
   "execution_count": 22,
   "id": "c906cb2f",
   "metadata": {},
   "outputs": [
    {
     "name": "stderr",
     "output_type": "stream",
     "text": [
      "Processing Craters: 100%|████████████████████████████████████████████████████████| 10200/10200 [05:21<00:00, 31.74it/s]\n"
     ]
    }
   ],
   "source": [
    "# Track speed for 100 time step\n",
    "csv_path8 = \"C:\\\\Users\\\\julia\\\\OneDrive\\\\Documents\\\\Lunar Cratering project David Kipping\\\\Simulation CSV files\\\\crater_100step_10k.csv\"\n",
    "surviving_craters_df = get_surviving_craters(csv_path8)"
   ]
  },
  {
   "cell_type": "markdown",
   "id": "8254a3a7",
   "metadata": {},
   "source": [
    "Changing d min (km): 100, 30, 10, 3, 1\n",
    "Holding constant: # steps: 10\n",
    "number of craters: 10,000"
   ]
  },
  {
   "cell_type": "code",
   "execution_count": 23,
   "id": "16f268d8",
   "metadata": {},
   "outputs": [
    {
     "name": "stderr",
     "output_type": "stream",
     "text": [
      "Processing Craters: 100%|████████████████████████████████████████████████████████| 10001/10001 [29:18<00:00,  5.69it/s]\n"
     ]
    }
   ],
   "source": [
    "# Track speed for dmin = 100\n",
    "csv_path9 = \"C:\\\\Users\\\\julia\\\\OneDrive\\\\Documents\\\\Lunar Cratering project David Kipping\\\\Simulation CSV files\\\\crater_dmin_100_10k.csv\"\n",
    "surviving_craters_df = get_surviving_craters(csv_path9)"
   ]
  },
  {
   "cell_type": "code",
   "execution_count": 25,
   "id": "542c9012",
   "metadata": {},
   "outputs": [
    {
     "name": "stderr",
     "output_type": "stream",
     "text": [
      "Processing Craters: 100%|████████████████████████████████████████████████████████| 10009/10009 [11:15<00:00, 14.82it/s]\n"
     ]
    }
   ],
   "source": [
    "# Track speed for dmin = 30\n",
    "csv_path10 = \"C:\\\\Users\\\\julia\\\\OneDrive\\\\Documents\\\\Lunar Cratering project David Kipping\\\\Simulation CSV files\\\\crater_dmin_30_10k.csv\"\n",
    "surviving_craters_df = get_surviving_craters(csv_path10)"
   ]
  },
  {
   "cell_type": "code",
   "execution_count": 26,
   "id": "fe33a40c",
   "metadata": {},
   "outputs": [
    {
     "name": "stderr",
     "output_type": "stream",
     "text": [
      "Processing Craters: 100%|████████████████████████████████████████████████████████| 10115/10115 [06:45<00:00, 24.98it/s]\n"
     ]
    }
   ],
   "source": [
    "# Track speed for dmin = 10\n",
    "csv_path11 = \"C:\\\\Users\\\\julia\\\\OneDrive\\\\Documents\\\\Lunar Cratering project David Kipping\\\\Simulation CSV files\\\\crater_dmin_10_10k.csv\"\n",
    "surviving_craters_df = get_surviving_craters(csv_path11)"
   ]
  },
  {
   "cell_type": "code",
   "execution_count": 27,
   "id": "d712f0c8",
   "metadata": {},
   "outputs": [
    {
     "name": "stderr",
     "output_type": "stream",
     "text": [
      "Processing Craters: 100%|████████████████████████████████████████████████████████| 10001/10001 [03:58<00:00, 41.95it/s]\n"
     ]
    }
   ],
   "source": [
    "# Track speed for dmin = 3\n",
    "csv_path12 = \"C:\\\\Users\\\\julia\\\\OneDrive\\\\Documents\\\\Lunar Cratering project David Kipping\\\\Simulation CSV files\\\\crater_dmin_3_10k.csv\"\n",
    "surviving_craters_df = get_surviving_craters(csv_path12)"
   ]
  },
  {
   "cell_type": "code",
   "execution_count": 28,
   "id": "cbd51903",
   "metadata": {},
   "outputs": [
    {
     "name": "stderr",
     "output_type": "stream",
     "text": [
      "Processing Craters: 100%|██████████████████████████████████████████████████████████| 9988/9988 [02:51<00:00, 58.36it/s]\n"
     ]
    }
   ],
   "source": [
    "# Track speed for dmin = 1\n",
    "csv_path13 = \"C:\\\\Users\\\\julia\\\\OneDrive\\\\Documents\\\\Lunar Cratering project David Kipping\\\\Simulation CSV files\\\\crater_dmin_1_10k.csv\"\n",
    "surviving_craters_df = get_surviving_craters(csv_path13)"
   ]
  },
  {
   "cell_type": "code",
   "execution_count": 29,
   "id": "7c83da9b",
   "metadata": {},
   "outputs": [
    {
     "name": "stderr",
     "output_type": "stream",
     "text": [
      "Processing Craters: 100%|████████████████████████████████████████████████████████| 10011/10011 [02:09<00:00, 77.02it/s]\n"
     ]
    }
   ],
   "source": [
    "# Track speed for dmin = 0.27\n",
    "csv_path14 = \"C:\\\\Users\\\\julia\\\\OneDrive\\\\Documents\\\\Lunar Cratering project David Kipping\\\\Simulation CSV files\\\\crater_dmin_0.27_10k.csv\"\n",
    "surviving_craters_df = get_surviving_craters(csv_path14)"
   ]
  },
  {
   "cell_type": "code",
   "execution_count": 5,
   "id": "801aa8de",
   "metadata": {},
   "outputs": [
    {
     "name": "stderr",
     "output_type": "stream",
     "text": [
      "Processing Craters: 100%|█████████████████████████████████████████████████████████████████████████████████████████████| 1016/1016 [00:01<00:00, 965.12it/s]\n"
     ]
    }
   ],
   "source": [
    "# 1k craters, 27s\n",
    "csv_path = \"C:\\\\Users\\\\julia\\\\OneDrive\\\\Documents\\\\Lunar Cratering project David Kipping\\\\Simulation CSV files\\\\craters_1k.csv\"\n",
    "surviving_craters_df = get_surviving_craters(csv_path)"
   ]
  },
  {
   "cell_type": "code",
   "execution_count": 12,
   "id": "f5f79020",
   "metadata": {},
   "outputs": [
    {
     "name": "stderr",
     "output_type": "stream",
     "text": [
      "Processing Craters: 100%|████████████████████████████████████████████████████████████████████████████████████████████| 10039/10039 [03:45<00:00, 44.57it/s]\n"
     ]
    }
   ],
   "source": [
    "# 10k craters, 38 mins\n",
    "csv_path = \"C:\\\\Users\\\\julia\\\\OneDrive\\\\Documents\\\\Lunar Cratering project David Kipping\\\\Simulation CSV files\\\\craters_10k.csv\"\n",
    "surviving_craters_df = get_surviving_craters(csv_path)"
   ]
  },
  {
   "cell_type": "code",
   "execution_count": null,
   "id": "6547b0da",
   "metadata": {},
   "outputs": [
    {
     "name": "stderr",
     "output_type": "stream",
     "text": [
      "Processing Craters:  70%|██████████████████████████████████▏              | 70471/101056 [118:22:31<1:09:37,  7.32it/s]"
     ]
    }
   ],
   "source": [
    "# 100k craters, 138 craters in 10 mins (Original speed before any optimization)\n",
    "csv_path = \"C:\\\\Users\\\\julia\\\\OneDrive\\\\Documents\\\\Lunar Cratering project David Kipping\\\\Simulation CSV files\\\\craters_100k.csv\"\n",
    "surviving_craters_df = get_surviving_craters(csv_path)"
   ]
  }
 ],
 "metadata": {
  "kernelspec": {
   "display_name": "Python 3 (ipykernel)",
   "language": "python",
   "name": "python3"
  },
  "language_info": {
   "codemirror_mode": {
    "name": "ipython",
    "version": 3
   },
   "file_extension": ".py",
   "mimetype": "text/x-python",
   "name": "python",
   "nbconvert_exporter": "python",
   "pygments_lexer": "ipython3",
   "version": "3.9.13"
  }
 },
 "nbformat": 4,
 "nbformat_minor": 5
}
